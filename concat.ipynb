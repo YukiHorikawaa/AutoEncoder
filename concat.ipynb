{
 "cells": [
  {
   "cell_type": "code",
   "execution_count": 12,
   "metadata": {},
   "outputs": [
    {
     "output_type": "stream",
     "name": "stdout",
     "text": [
      "(100, 256)\n[ 20  24  22  26  24  28  30  24  30  30  32  32  36  34  36  40  36  40\n  40  42  42  42  48  50  46  48  50  54  52  54  52  56  54  60  58  58\n  56  58  60  60  60  56  58  54  58  58  56  50  52  50  50  48  46  46\n  44  44  42  46  40  38  38  34  36  32  32  32  30  30  32  30  32  32\n  32  32  30  30  30  32  26  30  30  30  30  28  26  30  30  24  30  32\n  30  30  30  32  32  36  32  30  30  30  36  34  34  32  32  34  34  28\n  32  34  28  34  38  42  42  44  46  48  50  58  60  64  66  68  72  74\n  80  72  80  88  90  90  92  90  94  94  90  90  84  88  84  86  88  84\n  84  80  82  82  78  78  74  74  70  66  66  64  64  64  60  56  54  52\n  50  46  44  44  38  36  26  26  28  26  22  20  16  14  14  10   6   8\n  10  10   8   6   8   6   8   6  10   8  12  10  10  10  10  10  10  10\n  12  10   8  12  10  12  12  14  10  16  12  14  14  14  16  16  18  22\n  22  22  24  30  30  34  34  38  40  46  48  52  54  42  58  64  68  68\n  70  72  76  72  78  80  86  90  88  94  96  96  92  98 102  98 102 100\n 102 102  98 104]\n"
     ]
    }
   ],
   "source": [
    "import os\n",
    "import glob #特定のディレクトリに存在するファイルに処理を加える\n",
    "import csv\n",
    "import pandas as pd\n",
    "file_name = \"data\"\n",
    "DATA_PATH=\"Obrid_AE/\" + file_name + \"/*/*.csv\"\n",
    "All_Files = glob.glob(DATA_PATH)\n",
    "test_data_path = \"Obrid_AE/test_data/\" + file_name + \"0503.csv\"\n",
    "list=[]\n",
    "\n",
    "for path in All_Files:\n",
    "    data_df = pd.read_csv(path, header=None, engine=\"python\")\n",
    "    data = data_df.iloc[3:, 3].reset_index(drop = True).values\n",
    "    list.append(data)\n",
    "frame=pd.DataFrame(list)\n",
    "frame.to_csv(test_data_path, index=False, encoding=\"utf-8\")  \n",
    "\n",
    "data_df = pd.read_csv(test_data_path, engine=\"python\")\n",
    "data = data_df.values\n",
    "print(data.shape)\n",
    "print(data[0])"
   ]
  },
  {
   "cell_type": "code",
   "execution_count": null,
   "metadata": {},
   "outputs": [],
   "source": [
    " "
   ]
  }
 ],
 "metadata": {
  "kernelspec": {
   "display_name": "Python 3.8.5 64-bit ('Lab': conda)",
   "language": "python",
   "name": "python38564bitlabcondaaf5a7d8d25f24ca48fc4ba9d4aed4120"
  },
  "language_info": {
   "codemirror_mode": {
    "name": "ipython",
    "version": 3
   },
   "file_extension": ".py",
   "mimetype": "text/x-python",
   "name": "python",
   "nbconvert_exporter": "python",
   "pygments_lexer": "ipython3",
   "version": "3.8.5-final"
  }
 },
 "nbformat": 4,
 "nbformat_minor": 4
}