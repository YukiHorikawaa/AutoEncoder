{
 "cells": [
  {
   "cell_type": "code",
   "execution_count": 43,
   "metadata": {},
   "outputs": [
    {
     "name": "stdout",
     "output_type": "stream",
     "text": [
      "(50, 256)\n",
      "[ 14  18  16  20  16  16  18  16  14  16  16  16  18  14  16  18  14  18\n",
      "  18  18  18  18  16  16  16  16  14  16  18  16  16  16  16  18  14  16\n",
      "  14  12  16  14  14  16  16  14  16  16  16  14  16  16  18  16  20  16\n",
      "  16  14  18  22  18  20  20  18  22  20  24  22  20  22  26  24  26  28\n",
      "  28  30  26  28  24  26  26  28  30  28  28  28  26  30  30  24  30  32\n",
      "  28  28  30  28  32  32  28  28  30  28  32  32  34  32  32  32  32  28\n",
      "  30  34  32  32  34  36  32  34  32  32  32  34  32  36  38  36  38  38\n",
      "  38  36  36  38  38  40  40  44  42  44  44  48  44  48  48  52  56  58\n",
      "  60  62  68  72  76  82  86  92  96 100 108 116 122 130 138 138 138 148\n",
      " 146 146 146 146 144 136 128 112 128 126 118 114 108  98  94  84  74  82\n",
      "  84  80  74  74  72  64  60  56  54  54  60  58  56  52  52  46  44  42\n",
      "  42  40  36  40  38  40  40  40  40  40  40  42  38  38  38  40  42  40\n",
      "  40  42  38  42  38  42  38  40  40  38  44  42  40  38  38  44  42  42\n",
      "  40  42  44  40  40  42  44  42  40  42  42  40  38  42  42  40  40  40\n",
      "  42  42  38  40]\n"
     ]
    }
   ],
   "source": [
    "import os\n",
    "import glob #特定のディレクトリに存在するファイルに処理を加える\n",
    "import csv\n",
    "import pandas as pd\n",
    "DATA_PATH='Obrid_AE/test/*/*.csv'\n",
    "All_Files = glob.glob(DATA_PATH)\n",
    "test_data_path = \"Obrid_AE/test_data/test0503.csv\"\n",
    "list=[]\n",
    "\n",
    "for path in All_Files:\n",
    "    data_df = pd.read_csv(path, header=None, engine=\"python\")\n",
    "    data = data_df.iloc[3:, 3].reset_index(drop = True).values\n",
    "    list.append(data)\n",
    "frame=pd.DataFrame(list)\n",
    "frame.to_csv(test_data_path, index=False, encoding=\"utf-8\")  \n",
    "\n",
    "data_df = pd.read_csv(test_data_path, engine=\"python\")\n",
    "data = data_df.values\n",
    "print(data.shape)\n",
    "print(data[0])"
   ]
  },
  {
   "cell_type": "code",
   "execution_count": null,
   "metadata": {},
   "outputs": [],
   "source": [
    " "
   ]
  }
 ],
 "metadata": {
  "kernelspec": {
   "display_name": "Python 3",
   "language": "python",
   "name": "python3"
  },
  "language_info": {
   "codemirror_mode": {
    "name": "ipython",
    "version": 3
   },
   "file_extension": ".py",
   "mimetype": "text/x-python",
   "name": "python",
   "nbconvert_exporter": "python",
   "pygments_lexer": "ipython3",
   "version": "3.8.5"
  }
 },
 "nbformat": 4,
 "nbformat_minor": 4
}
