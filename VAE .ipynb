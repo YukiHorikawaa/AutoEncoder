{
 "cells": [
  {
   "cell_type": "markdown",
   "metadata": {},
   "source": [
    "# VAE"
   ]
  },
  {
   "cell_type": "code",
   "execution_count": 1,
   "metadata": {},
   "outputs": [],
   "source": [
    "import torch\n",
    "import torch.nn as nn\n",
    "import torch.nn.functional as F\n",
    "import torch.optim as optim\n",
    "import matplotlib.pyplot as plt\n",
    "# from torchvision import datasets, transforms\n",
    "import dataset\n",
    "import mainmodel\n",
    "import numpy as np\n",
    "from sklearn.metrics import roc_auc_score\n",
    "import matplotlib.pyplot as plt\n",
    "import numpy as np\n",
    "from sklearn.svm import OneClassSVM\n",
    "from sklearn.metrics import roc_curve"
   ]
  },
  {
   "cell_type": "markdown",
   "metadata": {},
   "source": [
    "## 学習データ作成"
   ]
  },
  {
   "cell_type": "code",
   "execution_count": null,
   "metadata": {},
   "outputs": [],
   "source": [
    "\n",
    "Dataset = dataset.dataset(\"Obrid_AE\", \"data\")\n",
    "Dataset.concat_data(\"sample_data\",500)\n",
    "Dataset = dataset.dataset(\"Obrid_AE\", \"test\")\n",
    "print(\"----------------------\")\n",
    "Dataset.concat_data(\"sample_test\",100)\n",
    "print(\"----------------------\")\n",
    "data = Dataset.read_savedata(\"sample_test\")\n",
    "print(data.shape[0])\n",
    "print(\"----------------------\")\n",
    "data, test_data , anomaly_data= Dataset.read_traindata(\"sample_data\", \"sample_test\", 1000, 256, 1)\n"
   ]
  },
  {
   "cell_type": "markdown",
   "metadata": {},
   "source": [
    "## モデル学習"
   ]
  },
  {
   "cell_type": "code",
   "execution_count": null,
   "metadata": {},
   "outputs": [],
   "source": [
    "\n",
    "losslist=[]\n",
    "\n",
    "model = mainmodel.Autoencoder2()\n",
    "criterion = nn.MSELoss()\n",
    "optimizer = torch.optim.Adam(model.parameters(), lr = 1e-3, weight_decay = 1e-5)\n",
    "\n",
    "outputs = []\n",
    "#テンソル型に変換\n",
    "data = torch.from_numpy(data.astype(np.float32)).clone()\n",
    "for epoch in data:\n",
    "    for data in epoch:\n",
    "        recon = model(data)\n",
    "#         print(recon.shape, data.shape)\n",
    "        loss = criterion(recon, data)\n",
    "        \n",
    "        optimizer.zero_grad()\n",
    "        loss.backward()\n",
    "        optimizer.step()\n",
    "\n",
    "#     print('Epoch:{}, Loss:{:.4f}'.format(epoch+1, float(loss)))\n",
    "    print('Loss:{:.4f}'.format(float(loss)))\n",
    "    losslist.append(loss)\n",
    "    outputs.append((epoch, data, recon))"
   ]
  },
  {
   "cell_type": "markdown",
   "metadata": {},
   "source": [
    "## モデルの保存"
   ]
  },
  {
   "cell_type": "code",
   "execution_count": null,
   "metadata": {},
   "outputs": [],
   "source": [
    "# model_name = \"newmodel\"\n",
    "# ModelEdit = mainmodel.Modeledit(\"syuron\")\n",
    "# ModelEdit.save_model(model, model_name) "
   ]
  }
 ],
 "metadata": {
  "interpreter": {
   "hash": "c5f3f9be2ca8d53a2d9e5a69008919cdcaa5ea3bae845fdf455c7915f0fd9345"
  },
  "kernelspec": {
   "display_name": "Python 3.8.11 64-bit ('lab2': conda)",
   "language": "python",
   "name": "python3"
  },
  "language_info": {
   "codemirror_mode": {
    "name": "ipython",
    "version": 3
   },
   "file_extension": ".py",
   "mimetype": "text/x-python",
   "name": "python",
   "nbconvert_exporter": "python",
   "pygments_lexer": "ipython3",
   "version": "3.8.11"
  },
  "orig_nbformat": 4
 },
 "nbformat": 4,
 "nbformat_minor": 2
}
