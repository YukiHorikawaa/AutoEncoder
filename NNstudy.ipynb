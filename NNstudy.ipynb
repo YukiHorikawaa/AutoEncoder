{
 "metadata": {
  "language_info": {
   "codemirror_mode": {
    "name": "ipython",
    "version": 3
   },
   "file_extension": ".py",
   "mimetype": "text/x-python",
   "name": "python",
   "nbconvert_exporter": "python",
   "pygments_lexer": "ipython3",
   "version": "3.8.5-final"
  },
  "orig_nbformat": 2,
  "kernelspec": {
   "name": "python38564bitlabcondaaf5a7d8d25f24ca48fc4ba9d4aed4120",
   "display_name": "Python 3.8.5 64-bit ('Lab': conda)"
  }
 },
 "nbformat": 4,
 "nbformat_minor": 2,
 "cells": [
  {
   "cell_type": "code",
   "execution_count": 1,
   "metadata": {},
   "outputs": [],
   "source": [
    "import torch\n",
    "import torch.nn as nn\n",
    "import torch.nn.functional as F\n",
    "import torch.optim as optim\n",
    "import matplotlib.pyplot as plt\n",
    "from torchvision import datasets, transforms"
   ]
  },
  {
   "cell_type": "markdown",
   "metadata": {},
   "source": [
    "## Conv1d\n",
    "https://pytorch.org/docs/stable/generated/torch.nn.Conv1d.html\n",
    "\n",
    "- 入力または隠れ層$X_{i, j}^{k}$\n",
    "    - 次元数4$(n,k,i,j)$\n",
    "        - $n$：バッチサイズ\n",
    "        - $k$：入力のチャネル数\n",
    "        - $i$：入力の行数\n",
    "        - $j$：入力の列数\n",
    "- 畳み込みのフィルタ（重み）$W_{i,j}^{k,l}$\n",
    "    - 次元数4$(l,k,i,j)$\n",
    "        - $l$: 出力のチャネル数(フィルタ数)\n",
    "        - $k$: 入力のチャネル数\n",
    "        - $i$: フィルタの行数\n",
    "        - $j$: フィルタの列数\n",
    "    - ストライド：フィルタを適用する位置の間隔\n",
    "    - ゼロパディング：入力の周りに値0の縁を加えます\n",
    "        - 入力のサイズを保つ為、フィルタの縦or横の次元が$F$のときパディング数を$(F-1)/2$とします。\n",
    "- フィルタ後のサイズは、入力の縦or横の次元数$N$、フィルタの縦or横の次元数$F$、ストライドの縦or横の量$S$で決まります。\n",
    "    - $ceil((N-F+1)/S)$ (ceilは整数値に切り上げ)"
   ]
  },
  {
   "cell_type": "markdown",
   "metadata": {},
   "source": [
    "https://discuss.pytorch.org/t/1d-sparse-network-using-conv1d/72748"
   ]
  },
  {
   "cell_type": "code",
   "execution_count": 34,
   "metadata": {},
   "outputs": [
    {
     "output_type": "stream",
     "name": "stdout",
     "text": [
      "tensor([[[-0.0509,  2.1726, -1.2051, -1.0499, -0.1044, -0.3736, -0.1073,\n          -0.1567, -0.5029, -0.7933,  1.0682,  0.9996, -0.2055,  0.7679,\n           0.5682,  1.1415, -0.1531, -1.5790,  1.3073, -0.9009]]])\nINPUT torch.Size([1, 1, 20])\ntensor([[[ 0.6274, -0.5733, -0.1218, -0.0586,  0.2200,  0.4856,  0.1649]]],\n       grad_fn=<SqueezeBackward1>)\nOUTPUT torch.Size([1, 1, 7])\n"
     ]
    }
   ],
   "source": [
    "input_data = torch.randn(1, 1, 20)\n",
    "print(input_data)\n",
    "print(\"INPUT\", input_data.shape)\n",
    "m = nn.Conv1d(1, 1, kernel_size = 3, stride= 3, padding=1, bias=False)\n",
    "output = m(input_data)\n",
    "print(output)\n",
    "print(\"OUTPUT\", output.shape)"
   ]
  },
  {
   "cell_type": "code",
   "execution_count": 78,
   "metadata": {},
   "outputs": [
    {
     "output_type": "execute_result",
     "data": {
      "text/plain": [
       "50.0"
      ]
     },
     "metadata": {},
     "execution_count": 78
    }
   ],
   "source": [
    "#カーネルサイズとストライドから入出力の関係を算出\n",
    "cnnInput = 256\n",
    "cnnKernelSize = 7\n",
    "cnnStride = 5\n",
    "cnnoutput = (cnnInput - cnnKernelSize + 1)/cnnStride\n",
    "cnnoutput"
   ]
  },
  {
   "cell_type": "code",
   "execution_count": 32,
   "metadata": {},
   "outputs": [
    {
     "output_type": "stream",
     "name": "stdout",
     "text": [
      "tensor([[[0.3392]]], grad_fn=<AddBackward0>)\nOUTPUT torch.Size([1, 1, 1])\n"
     ]
    }
   ],
   "source": [
    "m1 = nn.Linear(6, 1)\n",
    "output = m1(output)\n",
    "print(output)\n",
    "print(\"OUTPUT\", output.shape)"
   ]
  },
  {
   "cell_type": "markdown",
   "metadata": {},
   "source": [
    "- プーリングには次の種類があります。\n",
    "    - Max pooling\n",
    "    - Sum pooling\n",
    "    - Mean pooling\n",
    "    - その他Lpプーリングなど\n",
    "- 畳み込みと同様、ストライドやパディングも考えることがあります。\n",
    "- プーリング後のサイズは、入力の縦or横の次元数$N$、ウィンドウの縦or横の次元数$W$、ストライドの縦or横の量$S$で決まります。\n",
    "    - $ceil((N-W+1)/S)$  (ceilは整数値に切り上げ)"
   ]
  },
  {
   "cell_type": "code",
   "execution_count": 79,
   "metadata": {},
   "outputs": [
    {
     "output_type": "stream",
     "name": "stdout",
     "text": [
      "OUTPUT torch.Size([1, 1, 16])\nOUTPUTpred 16.0\nOUTPUTpred2 15.333333333333334\ntorch.Size([50])\ntorch.Size([50])\n"
     ]
    }
   ],
   "source": [
    "# pool of size=3, stride=2\n",
    "input = torch.randn(1, 1, 50)\n",
    "kernel_size = 5\n",
    "stride=3\n",
    "padding = 0\n",
    "dilation = 1\n",
    "# m = nn.MaxPool1d(kernel_size, stride=stride, padding=padding, dilation=dilation, return_indices=False, ceil_mode=False)\n",
    "m = nn.MaxPool1d(kernel_size, stride=stride)\n",
    "\n",
    "out_pred = ((input.shape[2]+2*padding - dilation*(kernel_size - 1) -1)/stride) + 1\n",
    "\n",
    "out_pred2 = ((input.shape[2] - kernel_size + 1)/stride)\n",
    "\n",
    "output = m(input)\n",
    "# print(output)\n",
    "print(\"OUTPUT\", output.shape)\n",
    "print(\"OUTPUTpred\", out_pred)\n",
    "print(\"OUTPUTpred2\", out_pred2)\n",
    "# new = torch.flatten(input)\n",
    "new = input.flatten(0, -1)\n",
    "print(new.shape)\n",
    "# new = new.unsqueeze(0)\n",
    "# new = new.unsqueeze(0)\n",
    "# new = new.\n",
    "print(new.shape)"
   ]
  },
  {
   "cell_type": "code",
   "execution_count": null,
   "metadata": {},
   "outputs": [],
   "source": [
    "\n",
    "torch.nn.MaxPool1d(kernel_size, stride=None, padding=0, dilation=1, return_indices=False, ceil_mode=False)"
   ]
  }
 ]
}