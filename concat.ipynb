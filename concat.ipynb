{
 "cells": [
  {
   "cell_type": "code",
   "execution_count": 2,
   "metadata": {},
   "outputs": [
    {
     "output_type": "stream",
     "name": "stdout",
     "text": [
      "(99, 256)\n[ 10  14  12  16  12  12  14  12  14  14  14  12  16  14  12  16  12  14\n  12  10  16  12  14  16  14  12  10  10  12  14  14  10  14  16  10  14\n  12  12  12  12  14  14  14  14  10  14  12  14  14  10  14  12  14  12\n  16  14  12  14  12  12  14  14  12  12  12  14  14  14  14  16  14  12\n  16  12  16  12  14  12  14  14  12  12  12  12  12  12  14  14  12  14\n  14  12  12  12  12  12  10   8  10  12  10   8  12  10  10  10   6   6\n   4   6   8   6   8   4   2   4   2   0   2   8   8   8  16  22  26  32\n  40  44  58  72  82  96 128 148 176 214 246 276 308 340 374 404 446 482\n 512 540 562 566 580 592 594 580 572 562 534 502 458 426 394 348 310 270\n 228 190 162 130  98  72  50  28  24  18  10   8   6   6   4   2   4   0\n   0   2   0   0   0   2   2   2   2   2   0   0   0   0   0   0   0   0\n   2   0   0   0   0   2   0   2   0   2   0   2   0   2   0   2   2   0\n   2   0   0   2   2   4   0   2   2   2   0   0   0   0   2   2   2   2\n   0   0   0   0   2   2   0   2   2   0   4   0   2   0   2   2   0   0\n   2   4   0   0]\n"
     ]
    }
   ],
   "source": [
    "import os\n",
    "import glob #特定のディレクトリに存在するファイルに処理を加える\n",
    "import csv\n",
    "import pandas as pd\n",
    "file_name = \"test\"\n",
    "DATA_PATH=\"Obrid_AE/\" + file_name + \"/*/*.csv\"\n",
    "All_Files = glob.glob(DATA_PATH)\n",
    "test_data_path = \"Obrid_AE/test_data/\" + file_name + \"0503.csv\"\n",
    "list=[]\n",
    "\n",
    "for path in All_Files:\n",
    "    data_df = pd.read_csv(path, header=None, engine=\"python\")\n",
    "    data = data_df.iloc[3:, 3].reset_index(drop = True).values\n",
    "    list.append(data)\n",
    "frame=pd.DataFrame(list)\n",
    "\n",
    "frame.to_csv(test_data_path, index=False, encoding=\"utf-8\")  \n",
    "\n",
    "data_df = pd.read_csv(test_data_path, engine=\"python\")\n",
    "data = data_df.values\n",
    "print(data.shape)\n",
    "print(data[0])"
   ]
  },
  {
   "cell_type": "code",
   "execution_count": null,
   "metadata": {},
   "outputs": [],
   "source": [
    " "
   ]
  }
 ],
 "metadata": {
  "kernelspec": {
   "display_name": "Python 3.8.5 64-bit ('Lab': conda)",
   "language": "python",
   "name": "python38564bitlabcondaaf5a7d8d25f24ca48fc4ba9d4aed4120"
  },
  "language_info": {
   "codemirror_mode": {
    "name": "ipython",
    "version": 3
   },
   "file_extension": ".py",
   "mimetype": "text/x-python",
   "name": "python",
   "nbconvert_exporter": "python",
   "pygments_lexer": "ipython3",
   "version": "3.8.5-final"
  }
 },
 "nbformat": 4,
 "nbformat_minor": 4
}