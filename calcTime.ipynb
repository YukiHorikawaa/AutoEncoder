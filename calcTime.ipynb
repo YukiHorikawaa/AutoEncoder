{
 "cells": [
  {
   "cell_type": "markdown",
   "metadata": {},
   "source": [
    "# 計算量算出"
   ]
  },
  {
   "cell_type": "markdown",
   "metadata": {},
   "source": [
    "## OCSVM"
   ]
  },
  {
   "cell_type": "code",
   "execution_count": 1,
   "metadata": {},
   "outputs": [],
   "source": [
    "import torch\n",
    "import torch.nn as nn\n",
    "import torch.nn.functional as F\n",
    "import torch.optim as optim\n",
    "\n",
    "import matplotlib.font_manager\n",
    "import matplotlib.patches as mpatches\n",
    "import matplotlib.pyplot as plt\n",
    "from matplotlib import cm\n",
    "from mpl_toolkits.mplot3d import axes3d\n",
    "from mpl_toolkits.mplot3d.art3d import Poly3DCollection\n",
    "\n",
    "import numpy as np\n",
    "\n",
    "from sklearn.metrics import roc_auc_score\n",
    "from sklearn.svm import OneClassSVM\n",
    "from sklearn.metrics import roc_curve\n",
    "from sklearn.svm import OneClassSVM\n",
    "from skimage import measure\n",
    "from sklearn import svm\n",
    "\n",
    "import dataset\n",
    "import mainmodel\n",
    "import dataloader"
   ]
  },
  {
   "cell_type": "code",
   "execution_count": 3,
   "metadata": {},
   "outputs": [
    {
     "name": "stdout",
     "output_type": "stream",
     "text": [
      "(500, 256)\n",
      "1148 0\n",
      "--------1/500--------\n",
      "--------2/500--------\n",
      "--------4/500--------\n",
      "--------5/500--------\n",
      "--------8/500--------\n",
      "--------10/500--------\n",
      "--------20/500--------\n",
      "--------25/500--------\n",
      "--------40/500--------\n",
      "--------50/500--------\n",
      "--------100/500--------\n",
      "--------125/500--------\n",
      "--------200/500--------\n",
      "--------250/500--------\n",
      "recon_list:(500, 256)\n",
      "encoded_list:(500, 3)\n",
      "input_list:(500,)\n"
     ]
    },
    {
     "name": "stderr",
     "output_type": "stream",
     "text": [
      "/Users/yukihorikawa/Desktop/LAB_LAST/AutoEncoder/AutoEncoder/dataloader.py:35: FutureWarning: The input object of type 'Tensor' is an array-like implementing one of the corresponding protocols (`__array__`, `__array_interface__` or `__array_struct__`); but not a sequence (or 0-D). In the future, this object will be coerced as if it was first converted using `np.array(obj)`. To retain the old behaviour, you have to either modify the type 'Tensor', or assign to an empty array created with `np.empty(correct_shape, dtype=object)`.\n",
      "  input_list = np.array(input_list)\n",
      "/Users/yukihorikawa/Desktop/LAB_LAST/AutoEncoder/AutoEncoder/dataloader.py:35: VisibleDeprecationWarning: Creating an ndarray from ragged nested sequences (which is a list-or-tuple of lists-or-tuples-or ndarrays with different lengths or shapes) is deprecated. If you meant to do this, you must specify 'dtype=object' when creating the ndarray.\n",
      "  input_list = np.array(input_list)\n"
     ]
    }
   ],
   "source": [
    "Dataset = dataset.dataset(\"Obrid_AE\", \"data\")\n",
    "data= Dataset.read_train(\"sample_data\")\n",
    "# data =  torch.from_numpy((data).astype(np.float32)).clone()\n",
    "# ae_data = data[:, np.newaxis, np.newaxis, :]#２次元のサイズでないとエラー\n",
    "\n",
    "input_model = mainmodel.Autoencoder2()\n",
    "input_model.eval()\n",
    "device = torch.device(\"cuda\" if torch.cuda.is_available() else \"cpu\")\n",
    "input_model = mainmodel.Autoencoder2().to(device)\n",
    "input_model.load_state_dict(torch.load(\"/Users/yukihorikawa/Desktop/LAB_LAST/AutoEncoder/program/syuron/model_data/20211206/newmodel.pth\", map_location=device))\n",
    "\n",
    "recon_list, encoded_list, input_list = dataloader.ocsvm_dataset(input_model, data)\n",
    "\n",
    "X_train = encoded_list\n",
    "clf = svm.OneClassSVM(nu=0.009, kernel=\"rbf\", gamma=0.8)\n",
    "clf.fit(X_train)\n",
    "X_train = X_train[np.newaxis, :]#２次元のサイズでないとエラー"
   ]
  },
  {
   "cell_type": "code",
   "execution_count": 4,
   "metadata": {},
   "outputs": [
    {
     "name": "stdout",
     "output_type": "stream",
     "text": [
      "(500, 256)\n",
      "100\n",
      "1\n"
     ]
    }
   ],
   "source": [
    "data.shape\n",
    "num = 100\n",
    "len = X_train.shape[0]\n",
    "print(data.shape)\n",
    "print(num)\n",
    "print(len)"
   ]
  },
  {
   "cell_type": "code",
   "execution_count": 5,
   "metadata": {},
   "outputs": [
    {
     "name": "stdout",
     "output_type": "stream",
     "text": [
      "CPU times: user 228 ms, sys: 2.34 ms, total: 231 ms\n",
      "Wall time: 230 ms\n"
     ]
    }
   ],
   "source": [
    "%%time\n",
    "for i in range(num):\n",
    "    for j in range(len):\n",
    "        y_pred_train = clf.predict(X_train[j])"
   ]
  },
  {
   "cell_type": "markdown",
   "metadata": {},
   "source": [
    "## AE"
   ]
  },
  {
   "cell_type": "code",
   "execution_count": 6,
   "metadata": {},
   "outputs": [
    {
     "name": "stdout",
     "output_type": "stream",
     "text": [
      "(500, 256)\n",
      "1148 0\n",
      "torch.Size([500, 1, 1, 256])\n",
      "100\n",
      "1\n"
     ]
    }
   ],
   "source": [
    "Dataset = dataset.dataset(\"Obrid_AE\", \"data\")\n",
    "data= Dataset.read_train(\"sample_data\")\n",
    "data =  torch.from_numpy((data).astype(np.float32)).clone()\n",
    "ae_data = data[:, np.newaxis, np.newaxis, :]#２次元のサイズでないとエラー\n",
    "print(ae_data.shape)\n",
    "print(num)\n",
    "print(len)"
   ]
  },
  {
   "cell_type": "code",
   "execution_count": 7,
   "metadata": {},
   "outputs": [
    {
     "name": "stdout",
     "output_type": "stream",
     "text": [
      "CPU times: user 40.7 ms, sys: 2.19 ms, total: 42.9 ms\n",
      "Wall time: 42.8 ms\n"
     ]
    }
   ],
   "source": [
    "%%time\n",
    "num = 100\n",
    "for i in range(num):\n",
    "    for j in range(len):\n",
    "        y_pred_train = input_model(ae_data[j]).detach().numpy()\n",
    "        anomalypoint=sum(abs(y_pred_train.flatten()-ae_data[j].numpy()))"
   ]
  },
  {
   "cell_type": "code",
   "execution_count": null,
   "metadata": {},
   "outputs": [],
   "source": []
  },
  {
   "cell_type": "code",
   "execution_count": null,
   "metadata": {},
   "outputs": [],
   "source": []
  },
  {
   "cell_type": "code",
   "execution_count": null,
   "metadata": {},
   "outputs": [],
   "source": []
  },
  {
   "cell_type": "code",
   "execution_count": null,
   "metadata": {},
   "outputs": [],
   "source": []
  }
 ],
 "metadata": {
  "interpreter": {
   "hash": "c5f3f9be2ca8d53a2d9e5a69008919cdcaa5ea3bae845fdf455c7915f0fd9345"
  },
  "kernelspec": {
   "display_name": "Python 3.8.11 64-bit ('lab2': conda)",
   "language": "python",
   "name": "python3"
  },
  "language_info": {
   "codemirror_mode": {
    "name": "ipython",
    "version": 3
   },
   "file_extension": ".py",
   "mimetype": "text/x-python",
   "name": "python",
   "nbconvert_exporter": "python",
   "pygments_lexer": "ipython3",
   "version": "3.8.11"
  },
  "orig_nbformat": 4
 },
 "nbformat": 4,
 "nbformat_minor": 2
}
